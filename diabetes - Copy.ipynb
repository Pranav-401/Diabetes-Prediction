{
 "cells": [
  {
   "cell_type": "code",
   "execution_count": 5,
   "id": "6c25af6a-d7fe-4af2-b57f-570c98ae1546",
   "metadata": {},
   "outputs": [],
   "source": [
    "# !pip install missingno"
   ]
  },
  {
   "cell_type": "code",
   "execution_count": 6,
   "id": "f3e6f71e",
   "metadata": {},
   "outputs": [],
   "source": [
    "import numpy as np\n",
    "import pandas as pd\n",
    "import seaborn as sns\n",
    "import statsmodels.api as sm    \n",
    "import matplotlib.pyplot as plt\n",
    "from sklearn.preprocessing import scale , StandardScaler\n",
    "from sklearn.model_selection import train_test_split, GridSearchCV, cross_val_score\n",
    "from sklearn.metrics import confusion_matrix , accuracy_score , mean_squared_error , r2_score , roc_auc_score , roc_curve , classification_report\n",
    "from sklearn.linear_model import LogisticRegression\n",
    "from sklearn.neighbors import KNeighborsClassifier\n",
    "from sklearn.neural_network import MLPClassifier\n",
    "from sklearn.svm import SVC\n",
    "from sklearn.tree import DecisionTreeClassifier\n",
    "from sklearn.ensemble import RandomForestClassifier , GradientBoostingClassifier\n",
    "from sklearn.model_selection import KFold\n",
    "import missingno as msno\n",
    "from sklearn.neighbors import LocalOutlierFactor\n",
    "from sklearn.preprocessing import RobustScaler\n",
    "import warnings\n",
    "warnings.simplefilter(action='ignore')\n",
    "sns.set()\n",
    "plt.style.use(\"ggplot\")\n",
    "%matplotlib inline"
   ]
  },
  {
   "cell_type": "code",
   "execution_count": 7,
   "id": "282fa638-2f3a-48dc-ad24-335beb0c8fd7",
   "metadata": {},
   "outputs": [
    {
     "ename": "FileNotFoundError",
     "evalue": "[Errno 2] No such file or directory: 'diabetes.csv'",
     "output_type": "error",
     "traceback": [
      "\u001b[31m---------------------------------------------------------------------------\u001b[39m",
      "\u001b[31mFileNotFoundError\u001b[39m                         Traceback (most recent call last)",
      "\u001b[36mCell\u001b[39m\u001b[36m \u001b[39m\u001b[32mIn[7]\u001b[39m\u001b[32m, line 2\u001b[39m\n\u001b[32m      1\u001b[39m \u001b[38;5;66;03m# read the database for dir\u001b[39;00m\n\u001b[32m----> \u001b[39m\u001b[32m2\u001b[39m df = \u001b[43mpd\u001b[49m\u001b[43m.\u001b[49m\u001b[43mread_csv\u001b[49m\u001b[43m(\u001b[49m\u001b[33;43m\"\u001b[39;49m\u001b[33;43mdiabetes.csv\u001b[39;49m\u001b[33;43m\"\u001b[39;49m\u001b[43m)\u001b[49m\n",
      "\u001b[36mFile \u001b[39m\u001b[32m~\\AppData\\Roaming\\Python\\Python312\\site-packages\\pandas\\io\\parsers\\readers.py:1026\u001b[39m, in \u001b[36mread_csv\u001b[39m\u001b[34m(filepath_or_buffer, sep, delimiter, header, names, index_col, usecols, dtype, engine, converters, true_values, false_values, skipinitialspace, skiprows, skipfooter, nrows, na_values, keep_default_na, na_filter, verbose, skip_blank_lines, parse_dates, infer_datetime_format, keep_date_col, date_parser, date_format, dayfirst, cache_dates, iterator, chunksize, compression, thousands, decimal, lineterminator, quotechar, quoting, doublequote, escapechar, comment, encoding, encoding_errors, dialect, on_bad_lines, delim_whitespace, low_memory, memory_map, float_precision, storage_options, dtype_backend)\u001b[39m\n\u001b[32m   1013\u001b[39m kwds_defaults = _refine_defaults_read(\n\u001b[32m   1014\u001b[39m     dialect,\n\u001b[32m   1015\u001b[39m     delimiter,\n\u001b[32m   (...)\u001b[39m\u001b[32m   1022\u001b[39m     dtype_backend=dtype_backend,\n\u001b[32m   1023\u001b[39m )\n\u001b[32m   1024\u001b[39m kwds.update(kwds_defaults)\n\u001b[32m-> \u001b[39m\u001b[32m1026\u001b[39m \u001b[38;5;28;01mreturn\u001b[39;00m \u001b[43m_read\u001b[49m\u001b[43m(\u001b[49m\u001b[43mfilepath_or_buffer\u001b[49m\u001b[43m,\u001b[49m\u001b[43m \u001b[49m\u001b[43mkwds\u001b[49m\u001b[43m)\u001b[49m\n",
      "\u001b[36mFile \u001b[39m\u001b[32m~\\AppData\\Roaming\\Python\\Python312\\site-packages\\pandas\\io\\parsers\\readers.py:620\u001b[39m, in \u001b[36m_read\u001b[39m\u001b[34m(filepath_or_buffer, kwds)\u001b[39m\n\u001b[32m    617\u001b[39m _validate_names(kwds.get(\u001b[33m\"\u001b[39m\u001b[33mnames\u001b[39m\u001b[33m\"\u001b[39m, \u001b[38;5;28;01mNone\u001b[39;00m))\n\u001b[32m    619\u001b[39m \u001b[38;5;66;03m# Create the parser.\u001b[39;00m\n\u001b[32m--> \u001b[39m\u001b[32m620\u001b[39m parser = \u001b[43mTextFileReader\u001b[49m\u001b[43m(\u001b[49m\u001b[43mfilepath_or_buffer\u001b[49m\u001b[43m,\u001b[49m\u001b[43m \u001b[49m\u001b[43m*\u001b[49m\u001b[43m*\u001b[49m\u001b[43mkwds\u001b[49m\u001b[43m)\u001b[49m\n\u001b[32m    622\u001b[39m \u001b[38;5;28;01mif\u001b[39;00m chunksize \u001b[38;5;129;01mor\u001b[39;00m iterator:\n\u001b[32m    623\u001b[39m     \u001b[38;5;28;01mreturn\u001b[39;00m parser\n",
      "\u001b[36mFile \u001b[39m\u001b[32m~\\AppData\\Roaming\\Python\\Python312\\site-packages\\pandas\\io\\parsers\\readers.py:1620\u001b[39m, in \u001b[36mTextFileReader.__init__\u001b[39m\u001b[34m(self, f, engine, **kwds)\u001b[39m\n\u001b[32m   1617\u001b[39m     \u001b[38;5;28mself\u001b[39m.options[\u001b[33m\"\u001b[39m\u001b[33mhas_index_names\u001b[39m\u001b[33m\"\u001b[39m] = kwds[\u001b[33m\"\u001b[39m\u001b[33mhas_index_names\u001b[39m\u001b[33m\"\u001b[39m]\n\u001b[32m   1619\u001b[39m \u001b[38;5;28mself\u001b[39m.handles: IOHandles | \u001b[38;5;28;01mNone\u001b[39;00m = \u001b[38;5;28;01mNone\u001b[39;00m\n\u001b[32m-> \u001b[39m\u001b[32m1620\u001b[39m \u001b[38;5;28mself\u001b[39m._engine = \u001b[38;5;28;43mself\u001b[39;49m\u001b[43m.\u001b[49m\u001b[43m_make_engine\u001b[49m\u001b[43m(\u001b[49m\u001b[43mf\u001b[49m\u001b[43m,\u001b[49m\u001b[43m \u001b[49m\u001b[38;5;28;43mself\u001b[39;49m\u001b[43m.\u001b[49m\u001b[43mengine\u001b[49m\u001b[43m)\u001b[49m\n",
      "\u001b[36mFile \u001b[39m\u001b[32m~\\AppData\\Roaming\\Python\\Python312\\site-packages\\pandas\\io\\parsers\\readers.py:1880\u001b[39m, in \u001b[36mTextFileReader._make_engine\u001b[39m\u001b[34m(self, f, engine)\u001b[39m\n\u001b[32m   1878\u001b[39m     \u001b[38;5;28;01mif\u001b[39;00m \u001b[33m\"\u001b[39m\u001b[33mb\u001b[39m\u001b[33m\"\u001b[39m \u001b[38;5;129;01mnot\u001b[39;00m \u001b[38;5;129;01min\u001b[39;00m mode:\n\u001b[32m   1879\u001b[39m         mode += \u001b[33m\"\u001b[39m\u001b[33mb\u001b[39m\u001b[33m\"\u001b[39m\n\u001b[32m-> \u001b[39m\u001b[32m1880\u001b[39m \u001b[38;5;28mself\u001b[39m.handles = \u001b[43mget_handle\u001b[49m\u001b[43m(\u001b[49m\n\u001b[32m   1881\u001b[39m \u001b[43m    \u001b[49m\u001b[43mf\u001b[49m\u001b[43m,\u001b[49m\n\u001b[32m   1882\u001b[39m \u001b[43m    \u001b[49m\u001b[43mmode\u001b[49m\u001b[43m,\u001b[49m\n\u001b[32m   1883\u001b[39m \u001b[43m    \u001b[49m\u001b[43mencoding\u001b[49m\u001b[43m=\u001b[49m\u001b[38;5;28;43mself\u001b[39;49m\u001b[43m.\u001b[49m\u001b[43moptions\u001b[49m\u001b[43m.\u001b[49m\u001b[43mget\u001b[49m\u001b[43m(\u001b[49m\u001b[33;43m\"\u001b[39;49m\u001b[33;43mencoding\u001b[39;49m\u001b[33;43m\"\u001b[39;49m\u001b[43m,\u001b[49m\u001b[43m \u001b[49m\u001b[38;5;28;43;01mNone\u001b[39;49;00m\u001b[43m)\u001b[49m\u001b[43m,\u001b[49m\n\u001b[32m   1884\u001b[39m \u001b[43m    \u001b[49m\u001b[43mcompression\u001b[49m\u001b[43m=\u001b[49m\u001b[38;5;28;43mself\u001b[39;49m\u001b[43m.\u001b[49m\u001b[43moptions\u001b[49m\u001b[43m.\u001b[49m\u001b[43mget\u001b[49m\u001b[43m(\u001b[49m\u001b[33;43m\"\u001b[39;49m\u001b[33;43mcompression\u001b[39;49m\u001b[33;43m\"\u001b[39;49m\u001b[43m,\u001b[49m\u001b[43m \u001b[49m\u001b[38;5;28;43;01mNone\u001b[39;49;00m\u001b[43m)\u001b[49m\u001b[43m,\u001b[49m\n\u001b[32m   1885\u001b[39m \u001b[43m    \u001b[49m\u001b[43mmemory_map\u001b[49m\u001b[43m=\u001b[49m\u001b[38;5;28;43mself\u001b[39;49m\u001b[43m.\u001b[49m\u001b[43moptions\u001b[49m\u001b[43m.\u001b[49m\u001b[43mget\u001b[49m\u001b[43m(\u001b[49m\u001b[33;43m\"\u001b[39;49m\u001b[33;43mmemory_map\u001b[39;49m\u001b[33;43m\"\u001b[39;49m\u001b[43m,\u001b[49m\u001b[43m \u001b[49m\u001b[38;5;28;43;01mFalse\u001b[39;49;00m\u001b[43m)\u001b[49m\u001b[43m,\u001b[49m\n\u001b[32m   1886\u001b[39m \u001b[43m    \u001b[49m\u001b[43mis_text\u001b[49m\u001b[43m=\u001b[49m\u001b[43mis_text\u001b[49m\u001b[43m,\u001b[49m\n\u001b[32m   1887\u001b[39m \u001b[43m    \u001b[49m\u001b[43merrors\u001b[49m\u001b[43m=\u001b[49m\u001b[38;5;28;43mself\u001b[39;49m\u001b[43m.\u001b[49m\u001b[43moptions\u001b[49m\u001b[43m.\u001b[49m\u001b[43mget\u001b[49m\u001b[43m(\u001b[49m\u001b[33;43m\"\u001b[39;49m\u001b[33;43mencoding_errors\u001b[39;49m\u001b[33;43m\"\u001b[39;49m\u001b[43m,\u001b[49m\u001b[43m \u001b[49m\u001b[33;43m\"\u001b[39;49m\u001b[33;43mstrict\u001b[39;49m\u001b[33;43m\"\u001b[39;49m\u001b[43m)\u001b[49m\u001b[43m,\u001b[49m\n\u001b[32m   1888\u001b[39m \u001b[43m    \u001b[49m\u001b[43mstorage_options\u001b[49m\u001b[43m=\u001b[49m\u001b[38;5;28;43mself\u001b[39;49m\u001b[43m.\u001b[49m\u001b[43moptions\u001b[49m\u001b[43m.\u001b[49m\u001b[43mget\u001b[49m\u001b[43m(\u001b[49m\u001b[33;43m\"\u001b[39;49m\u001b[33;43mstorage_options\u001b[39;49m\u001b[33;43m\"\u001b[39;49m\u001b[43m,\u001b[49m\u001b[43m \u001b[49m\u001b[38;5;28;43;01mNone\u001b[39;49;00m\u001b[43m)\u001b[49m\u001b[43m,\u001b[49m\n\u001b[32m   1889\u001b[39m \u001b[43m\u001b[49m\u001b[43m)\u001b[49m\n\u001b[32m   1890\u001b[39m \u001b[38;5;28;01massert\u001b[39;00m \u001b[38;5;28mself\u001b[39m.handles \u001b[38;5;129;01mis\u001b[39;00m \u001b[38;5;129;01mnot\u001b[39;00m \u001b[38;5;28;01mNone\u001b[39;00m\n\u001b[32m   1891\u001b[39m f = \u001b[38;5;28mself\u001b[39m.handles.handle\n",
      "\u001b[36mFile \u001b[39m\u001b[32m~\\AppData\\Roaming\\Python\\Python312\\site-packages\\pandas\\io\\common.py:873\u001b[39m, in \u001b[36mget_handle\u001b[39m\u001b[34m(path_or_buf, mode, encoding, compression, memory_map, is_text, errors, storage_options)\u001b[39m\n\u001b[32m    868\u001b[39m \u001b[38;5;28;01melif\u001b[39;00m \u001b[38;5;28misinstance\u001b[39m(handle, \u001b[38;5;28mstr\u001b[39m):\n\u001b[32m    869\u001b[39m     \u001b[38;5;66;03m# Check whether the filename is to be opened in binary mode.\u001b[39;00m\n\u001b[32m    870\u001b[39m     \u001b[38;5;66;03m# Binary mode does not support 'encoding' and 'newline'.\u001b[39;00m\n\u001b[32m    871\u001b[39m     \u001b[38;5;28;01mif\u001b[39;00m ioargs.encoding \u001b[38;5;129;01mand\u001b[39;00m \u001b[33m\"\u001b[39m\u001b[33mb\u001b[39m\u001b[33m\"\u001b[39m \u001b[38;5;129;01mnot\u001b[39;00m \u001b[38;5;129;01min\u001b[39;00m ioargs.mode:\n\u001b[32m    872\u001b[39m         \u001b[38;5;66;03m# Encoding\u001b[39;00m\n\u001b[32m--> \u001b[39m\u001b[32m873\u001b[39m         handle = \u001b[38;5;28;43mopen\u001b[39;49m\u001b[43m(\u001b[49m\n\u001b[32m    874\u001b[39m \u001b[43m            \u001b[49m\u001b[43mhandle\u001b[49m\u001b[43m,\u001b[49m\n\u001b[32m    875\u001b[39m \u001b[43m            \u001b[49m\u001b[43mioargs\u001b[49m\u001b[43m.\u001b[49m\u001b[43mmode\u001b[49m\u001b[43m,\u001b[49m\n\u001b[32m    876\u001b[39m \u001b[43m            \u001b[49m\u001b[43mencoding\u001b[49m\u001b[43m=\u001b[49m\u001b[43mioargs\u001b[49m\u001b[43m.\u001b[49m\u001b[43mencoding\u001b[49m\u001b[43m,\u001b[49m\n\u001b[32m    877\u001b[39m \u001b[43m            \u001b[49m\u001b[43merrors\u001b[49m\u001b[43m=\u001b[49m\u001b[43merrors\u001b[49m\u001b[43m,\u001b[49m\n\u001b[32m    878\u001b[39m \u001b[43m            \u001b[49m\u001b[43mnewline\u001b[49m\u001b[43m=\u001b[49m\u001b[33;43m\"\u001b[39;49m\u001b[33;43m\"\u001b[39;49m\u001b[43m,\u001b[49m\n\u001b[32m    879\u001b[39m \u001b[43m        \u001b[49m\u001b[43m)\u001b[49m\n\u001b[32m    880\u001b[39m     \u001b[38;5;28;01melse\u001b[39;00m:\n\u001b[32m    881\u001b[39m         \u001b[38;5;66;03m# Binary mode\u001b[39;00m\n\u001b[32m    882\u001b[39m         handle = \u001b[38;5;28mopen\u001b[39m(handle, ioargs.mode)\n",
      "\u001b[31mFileNotFoundError\u001b[39m: [Errno 2] No such file or directory: 'diabetes.csv'"
     ]
    }
   ],
   "source": [
    "# read the database for dir\n",
    "df = pd.read_csv(\"diabetes.csv\")"
   ]
  },
  {
   "cell_type": "code",
   "execution_count": null,
   "id": "00070a58-4949-4594-8b96-a3241d070b3c",
   "metadata": {},
   "outputs": [],
   "source": [
    "df.head()"
   ]
  },
  {
   "cell_type": "code",
   "execution_count": null,
   "id": "f95c945f-0619-49cc-8a7f-ea461150caf6",
   "metadata": {},
   "outputs": [],
   "source": [
    "df.info()"
   ]
  },
  {
   "cell_type": "code",
   "execution_count": null,
   "id": "55488705-ebc5-4a13-b817-e0dc6c6f19b7",
   "metadata": {},
   "outputs": [],
   "source": [
    "df.columns"
   ]
  },
  {
   "cell_type": "code",
   "execution_count": null,
   "id": "d91db82b-0bbd-469f-9ed1-41fe397cec54",
   "metadata": {},
   "outputs": [],
   "source": [
    "# independent feature -> 'Pregnancies', 'Glucose', 'BloodPressure', 'SkinThickness', 'Insulin','BMI', 'DiabetesPedigreeFunction', 'Age', \n",
    "# dependent feature   -> 'Outcome'\n",
    "# descriptive statistics of the dataset\n",
    "df.describe()"
   ]
  },
  {
   "cell_type": "code",
   "execution_count": null,
   "id": "37b44046-848f-479a-b07f-c7cefaaee0a5",
   "metadata": {},
   "outputs": [],
   "source": [
    "# (rows , column)"
   ]
  },
  {
   "cell_type": "code",
   "execution_count": null,
   "id": "0fd1a49a-1cb3-4b09-8288-2ec37caf608c",
   "metadata": {},
   "outputs": [],
   "source": [
    "df.shape  "
   ]
  },
  {
   "cell_type": "code",
   "execution_count": null,
   "id": "be3f6b8f-fbb9-4d81-9ab9-cc1775019f16",
   "metadata": {},
   "outputs": [],
   "source": [
    "# to get distribution of outcome which mean how mean preson get 0 or 1\n",
    "# value_counts return unique value"
   ]
  },
  {
   "cell_type": "code",
   "execution_count": null,
   "id": "8d017263-5299-4837-b643-bd9763f77127",
   "metadata": {},
   "outputs": [],
   "source": [
    "df['Outcome'].value_counts()*100/len(df)"
   ]
  },
  {
   "cell_type": "code",
   "execution_count": null,
   "id": "6851c5fe-1382-4f2f-b6fa-2f10accca90c",
   "metadata": {},
   "outputs": [],
   "source": [
    "df.Outcome.value_counts()*100/len(df)"
   ]
  },
  {
   "cell_type": "code",
   "execution_count": null,
   "id": "e703e198-85e8-4fd6-94d8-930979b01b20",
   "metadata": {},
   "outputs": [],
   "source": [
    "df.Outcome.value_counts()"
   ]
  },
  {
   "cell_type": "code",
   "execution_count": null,
   "id": "c9d71d7c-520e-4f44-86a9-285fefac325d",
   "metadata": {},
   "outputs": [],
   "source": [
    "# len(df) it return total number of rows \n",
    "# Converts the raw counts into percentages, by multiplying by 100 and dividing by the total."
   ]
  },
  {
   "cell_type": "code",
   "execution_count": null,
   "id": "0251c173-43c0-45ca-b2b0-c9708eee627a",
   "metadata": {},
   "outputs": [],
   "source": [
    "df.Outcome.value_counts()*100/len(df)\n"
   ]
  },
  {
   "cell_type": "code",
   "execution_count": null,
   "id": "919012b9-14ce-48eb-873c-f6f130d9bf3a",
   "metadata": {},
   "outputs": [],
   "source": [
    "# plot the historgram of the age variable "
   ]
  },
  {
   "cell_type": "code",
   "execution_count": null,
   "id": "2d11af06-5932-4df7-94c1-25b4d72f49a1",
   "metadata": {},
   "outputs": [],
   "source": [
    "plt.figure(figsize=(8,7))\n",
    "plt.xlabel('Age',fontsize=10)\n",
    "plt.ylabel('Count',fontsize=10)\n",
    "df.Age.hist(edgecolor=\"black\")"
   ]
  },
  {
   "cell_type": "code",
   "execution_count": null,
   "id": "af85e455-fb3b-43a1-96d8-fa9478266b15",
   "metadata": {},
   "outputs": [],
   "source": [
    " df.Age.max()"
   ]
  },
  {
   "cell_type": "code",
   "execution_count": null,
   "id": "4bdf5c86-c3a0-472a-9dd9-51f5ac43e57e",
   "metadata": {},
   "outputs": [],
   "source": [
    "df.Age.min()"
   ]
  },
  {
   "cell_type": "code",
   "execution_count": null,
   "id": "5d595ef6-6026-4187-bcc4-2dc951e0e54d",
   "metadata": {},
   "outputs": [],
   "source": [
    "print(\"Max Age : \" + str( df.Age.max()))\n",
    "print(\"Min Age : \" + str( df.Age.min()))"
   ]
  },
  {
   "cell_type": "code",
   "execution_count": null,
   "id": "11710199-967c-4c42-9bfe-195c4b76080e",
   "metadata": {},
   "outputs": [],
   "source": [
    "df.columns"
   ]
  },
  {
   "cell_type": "code",
   "execution_count": null,
   "id": "723d0389-8135-485a-897a-18b719e2d260",
   "metadata": {},
   "outputs": [],
   "source": [
    "# Density plot \n",
    "fig,ax=plt.subplots(4,2 , figsize=(20,20))\n",
    "sns.distplot(df.Pregnancies,bins=20,ax=ax[0,0],color=\"red\")\n",
    "sns.distplot(df.Glucose,bins=20,ax=ax[0,1],color=\"red\")\n",
    "sns.distplot(df.BloodPressure,bins=20,ax=ax[1,0],color=\"red\")\n",
    "sns.distplot(df.SkinThickness,bins=20,ax=ax[1,1],color=\"red\")\n",
    "sns.distplot(df.Insulin,bins=20,ax=ax[2,0],color=\"red\")\n",
    "sns.distplot(df.BMI,bins=20,ax=ax[2,1],color=\"red\")\n",
    "sns.distplot(df.DiabetesPedigreeFunction,bins=20,ax=ax[3,0],color=\"red\")\n",
    "sns.distplot(df.Age,bins=20,ax=ax[3,1],color=\"red\")\n"
   ]
  },
  {
   "cell_type": "code",
   "execution_count": null,
   "id": "01bdb64f-a24c-4d8c-a35e-88e8705d5b9b",
   "metadata": {},
   "outputs": [],
   "source": [
    "df.columns"
   ]
  },
  {
   "cell_type": "code",
   "execution_count": null,
   "id": "6ab93c53-a31f-46ab-8e54-c969dc8cb164",
   "metadata": {},
   "outputs": [],
   "source": [
    "df.groupby(\"Outcome\").agg({'Pregnancies':'mean'})"
   ]
  },
  {
   "cell_type": "code",
   "execution_count": null,
   "id": "8304789c-f410-449e-8444-af09f1e3eb5c",
   "metadata": {},
   "outputs": [],
   "source": [
    "df.groupby(\"Outcome\").agg({'Pregnancies':'max'})"
   ]
  },
  {
   "cell_type": "code",
   "execution_count": null,
   "id": "b5f5558d-1dd7-45eb-a9c1-98be9c5780c2",
   "metadata": {},
   "outputs": [],
   "source": [
    "df.groupby(\"Outcome\").agg({'Glucose':'mean'})\n"
   ]
  },
  {
   "cell_type": "code",
   "execution_count": null,
   "id": "70f05c5f-47f7-4108-9d45-e6b0351bcf8e",
   "metadata": {},
   "outputs": [],
   "source": [
    "df.groupby(\"Outcome\").agg({'Glucose':'max'})"
   ]
  },
  {
   "cell_type": "code",
   "execution_count": null,
   "id": "f3fbf9af-a428-45c7-9182-9f33118ea526",
   "metadata": {},
   "outputs": [],
   "source": [
    "f,ax =plt.subplots(1,2,figsize=(18,8))\n",
    "df['Outcome'].value_counts().plot.pie(explode=[0,0.1],autopct=\"%1.1f%%\",ax=ax[0],shadow=True)\n",
    "ax[0].set_title('target')\n",
    "ax[0].set_ylabel('')\n",
    "sns.countplot(x='Outcome', data=df, ax=ax[1])\n",
    "ax[1].set_title('Outcome')\n",
    "plt.show()\n"
   ]
  },
  {
   "cell_type": "code",
   "execution_count": null,
   "id": "15f94316-ba11-4e29-ab5f-e6c9a04e8c4f",
   "metadata": {},
   "outputs": [],
   "source": [
    "df.corr()"
   ]
  },
  {
   "cell_type": "code",
   "execution_count": null,
   "id": "2752a0ea-7952-4744-b2bc-7a4f951ff839",
   "metadata": {},
   "outputs": [],
   "source": [
    "f,ax=plt.subplots(figsize=[20,15])\n",
    "sns.heatmap(df.corr(), annot=True, fmt='.2f', ax=ax, cmap='magma')\n",
    "ax.set_title(\"Correlation Matrix\", fontsize=20)\n",
    "plt.show()"
   ]
  },
  {
   "cell_type": "code",
   "execution_count": null,
   "id": "5a63cc0b-f005-4d0c-85c3-693b5be7c789",
   "metadata": {},
   "outputs": [],
   "source": [
    "# Data preprocessing part "
   ]
  },
  {
   "cell_type": "code",
   "execution_count": null,
   "id": "5df1b29f-79d4-4db5-aefc-c17218856eeb",
   "metadata": {},
   "outputs": [],
   "source": [
    "df.isnull().sum()"
   ]
  },
  {
   "cell_type": "code",
   "execution_count": null,
   "id": "9d967a4a-dc16-4da9-9376-5e5e1315ca97",
   "metadata": {},
   "outputs": [],
   "source": [
    "df.columns"
   ]
  },
  {
   "cell_type": "code",
   "execution_count": null,
   "id": "1bd83cbb-b5b4-4b7e-9705-a7cd255de3ee",
   "metadata": {},
   "outputs": [],
   "source": [
    "df[['Pregnancies', 'Glucose', 'BloodPressure', 'SkinThickness', 'Insulin',\n",
    "       'BMI', 'DiabetesPedigreeFunction', 'Age']]=df[['Pregnancies', 'Glucose', 'BloodPressure', 'SkinThickness', 'Insulin',\n",
    "       'BMI', 'DiabetesPedigreeFunction', 'Age']].replace(0, np.NaN)"
   ]
  },
  {
   "cell_type": "code",
   "execution_count": null,
   "id": "557c4087-3e12-406e-8978-47062d5ee7ca",
   "metadata": {},
   "outputs": [],
   "source": [
    "df.isnull().sum()"
   ]
  },
  {
   "cell_type": "code",
   "execution_count": null,
   "id": "a54e9c54-21a3-4546-bac6-9825d9486321",
   "metadata": {},
   "outputs": [],
   "source": [
    "msno.bar(df, color=\"red\")"
   ]
  },
  {
   "cell_type": "code",
   "execution_count": null,
   "id": "4d2841ae-70cf-4ae0-87a0-42aca4c57db1",
   "metadata": {},
   "outputs": [],
   "source": [
    "def median_target(var):\n",
    "    temp=df[df[var].notnull()]\n",
    "    temp=temp[[var,'Outcome']].groupby(['Outcome'])[[var]].median().reset_index()\n",
    "    return temp"
   ]
  },
  {
   "cell_type": "code",
   "execution_count": null,
   "id": "4185b9d1-6f86-41f2-8b33-007346cef8b4",
   "metadata": {},
   "outputs": [],
   "source": [
    "\n",
    "columns = df.columns\n",
    "columns = columns.drop('Outcome')\n",
    "for i in columns:\n",
    "    median_target(i)\n",
    "    df.loc[(df['Outcome']==0) & (df[i].isnull()), i] = median_target(i)[i][0]\n",
    "    df.loc[(df['Outcome']==1) & (df[i].isnull()), i] = median_target(i)[i][1]"
   ]
  },
  {
   "cell_type": "code",
   "execution_count": null,
   "id": "9c4d0158-a777-4783-b63f-c1a1e8ea80fe",
   "metadata": {},
   "outputs": [],
   "source": [
    "df.head()"
   ]
  },
  {
   "cell_type": "code",
   "execution_count": null,
   "id": "9700304e-e714-4583-b570-b7c341d627e2",
   "metadata": {},
   "outputs": [],
   "source": [
    "df.isnull().sum()"
   ]
  },
  {
   "cell_type": "code",
   "execution_count": null,
   "id": "35c20932-2451-4607-82aa-def09553929e",
   "metadata": {},
   "outputs": [],
   "source": [
    "# pair plot\n",
    "p = sns.pairplot(df, hue=\"Outcome\")"
   ]
  },
  {
   "cell_type": "code",
   "execution_count": null,
   "id": "f074e69f-2c20-4768-ad3e-f8f127b41b3e",
   "metadata": {},
   "outputs": [],
   "source": [
    "# Outlier Detection \n",
    "# IQR\n",
    "# 50%\n",
    "# 24.65-->25% + 50%\n",
    "# 24.65-->25%\n",
    "for feature in df :\n",
    "    Q1 =df[feature].quantile(0.25)\n",
    "    Q3 =df[feature].quantile(0.75)\n",
    "    IQR = Q3 - Q1\n",
    "    lower = Q1-1.5*IQR\n",
    "    upper = Q3+1.5*IQR\n",
    "    if df[(df[feature]>upper)].any(axis=None):\n",
    "        print(feature, \"yes\")\n",
    "    else:\n",
    "        print(feature, \"No\")"
   ]
  },
  {
   "cell_type": "code",
   "execution_count": null,
   "id": "facf3810-a67c-425c-9cc2-5b63670505a1",
   "metadata": {},
   "outputs": [],
   "source": [
    "plt.figure(figsize=(8,7))\n",
    "sns.boxplot(x=df[\"Insulin\"],color=\"red\")"
   ]
  },
  {
   "cell_type": "code",
   "execution_count": null,
   "id": "153ab055-baf8-491a-ac08-3e6ae01ae6bb",
   "metadata": {},
   "outputs": [],
   "source": [
    "Q1 = df.Insulin.quantile(0.25)\n",
    "Q3 = df.Insulin.quantile(0.75)\n",
    "IQR = Q3 -Q1\n",
    "lower = Q1-1.5*IQR\n",
    "upper = Q3+1.5*IQR\n",
    "df.loc[df['Insulin']>upper,\"Insulin\"] = upper"
   ]
  },
  {
   "cell_type": "code",
   "execution_count": null,
   "id": "111b8b0c-f059-4471-b6ad-54797c86ee64",
   "metadata": {},
   "outputs": [],
   "source": [
    "plt.figure(figsize=(8,7))\n",
    "sns.boxplot(x=df[\"Insulin\"],color=\"red\")"
   ]
  },
  {
   "cell_type": "code",
   "execution_count": null,
   "id": "64313976-659d-4543-b120-1c14f2a45f42",
   "metadata": {},
   "outputs": [],
   "source": [
    "# LOF --> local outlier factor\n",
    "lof = LocalOutlierFactor(n_neighbors=10)\n",
    "lof.fit_predict(df)"
   ]
  },
  {
   "cell_type": "code",
   "execution_count": null,
   "id": "0c38807e-17e9-4cef-be28-c9412dc95aed",
   "metadata": {},
   "outputs": [],
   "source": [
    "df.head()"
   ]
  },
  {
   "cell_type": "code",
   "execution_count": null,
   "id": "1cba5d6a-2bb9-4f3d-9ee9-8cea9677031e",
   "metadata": {},
   "outputs": [],
   "source": [
    "plt.figure(figsize=(8,7))\n",
    "sns.boxplot(x=df[\"Pregnancies\"],color=\"red\")"
   ]
  },
  {
   "cell_type": "code",
   "execution_count": null,
   "id": "af495315-768a-4fea-885a-e973559f96c6",
   "metadata": {},
   "outputs": [],
   "source": [
    "df_score= lof.negative_outlier_factor_\n",
    "np.sort(df_score)[0:20]"
   ]
  },
  {
   "cell_type": "code",
   "execution_count": null,
   "id": "61c13da2-23ee-422c-9bec-bab9a788dec1",
   "metadata": {},
   "outputs": [],
   "source": [
    "thresold = np.sort(df_score)[7]"
   ]
  },
  {
   "cell_type": "code",
   "execution_count": null,
   "id": "eb6c265a-44ae-448e-9f45-129ec29dca8d",
   "metadata": {},
   "outputs": [],
   "source": [
    "outlier = df_score>thresold"
   ]
  },
  {
   "cell_type": "code",
   "execution_count": null,
   "id": "3517a1fd-087e-4e0b-91d7-490018083915",
   "metadata": {},
   "outputs": [],
   "source": [
    "outlier"
   ]
  },
  {
   "cell_type": "code",
   "execution_count": null,
   "id": "d84f29b0-c0fe-4cc6-9af9-08561f449853",
   "metadata": {},
   "outputs": [],
   "source": [
    "df=df[outlier]"
   ]
  },
  {
   "cell_type": "code",
   "execution_count": null,
   "id": "1ef71a0d-d2a0-4c4e-8aa2-39fb4a05e701",
   "metadata": {},
   "outputs": [],
   "source": [
    "df"
   ]
  },
  {
   "cell_type": "code",
   "execution_count": null,
   "id": "8627940a-2a0b-4534-b1c8-f1340a219bd9",
   "metadata": {},
   "outputs": [],
   "source": [
    "df.shape"
   ]
  },
  {
   "cell_type": "code",
   "execution_count": null,
   "id": "f018f396-7135-4143-b140-74388b097bed",
   "metadata": {},
   "outputs": [],
   "source": [
    "df.head()"
   ]
  },
  {
   "cell_type": "code",
   "execution_count": null,
   "id": "c14e15fa-653e-40d0-a91f-77fa3dfb6f2a",
   "metadata": {},
   "outputs": [],
   "source": [
    "plt.figure(figsize=(8,7))\n",
    "sns.boxplot(x=df[\"Pregnancies\"],color=\"red\")"
   ]
  },
  {
   "cell_type": "code",
   "execution_count": null,
   "id": "1baf408b-f823-4aa5-9573-18ad5ad33d6a",
   "metadata": {},
   "outputs": [],
   "source": [
    "# Feature Enginnering"
   ]
  },
  {
   "cell_type": "code",
   "execution_count": null,
   "id": "c26087df-7af6-4f11-bee7-f33387cfa3e1",
   "metadata": {},
   "outputs": [],
   "source": [
    "NewBMI = pd.Series([\"Underweight\",\"Normal\",\"Overweight\",\"Obesity 1\",\"Obesity 2\",\"Obesity 3\"], dtype = \"category\")"
   ]
  },
  {
   "cell_type": "code",
   "execution_count": null,
   "id": "a1ebf31f-cfaf-4051-86c4-f776e27c568f",
   "metadata": {},
   "outputs": [],
   "source": [
    "NewBMI"
   ]
  },
  {
   "cell_type": "code",
   "execution_count": null,
   "id": "005f4ae6-1445-42bf-b2d1-63f7be796f43",
   "metadata": {},
   "outputs": [],
   "source": [
    "df['NewBMI'] = NewBMI\n",
    "df.loc[df[\"BMI\"]<18.5,\"NewBMI\"] = NewBMI[0]\n",
    "df.loc[(df[\"BMI\"]>18.5) & df[\"BMI\"] <=24.9, \"NewBMI\"] = NewBMI[1]\n",
    "df.loc[(df[\"BMI\"]>24.9) & df[\"BMI\"] <=29.9, \"NewBMI\"] = NewBMI[2]\n",
    "df.loc[(df[\"BMI\"]>29.9) & df[\"BMI\"] <=34.9, \"NewBMI\"] = NewBMI[3]\n",
    "df.loc[(df[\"BMI\"]>34.9) & df[\"BMI\"] <=39.9, \"NewBMI\"] = NewBMI[4]\n",
    "df.loc[df[\"BMI\"]>39.9,\"NewBMI\"] = NewBMI[5]\n"
   ]
  },
  {
   "cell_type": "code",
   "execution_count": null,
   "id": "f83f9b1e-8afc-466c-b02d-4fcc2f1d6a2c",
   "metadata": {},
   "outputs": [],
   "source": [
    "df.head()"
   ]
  },
  {
   "cell_type": "code",
   "execution_count": null,
   "id": "cad0f921-f99d-492c-9d96-1c3940fc1a72",
   "metadata": {},
   "outputs": [],
   "source": [
    "# if insulin >= 16 & insulin <= 166 --> normal\n",
    "def set_insuline(row):\n",
    "    if row[\"Insulin\"]>=16 and row[\"Insulin\"]<=166:\n",
    "        return \"Noraml\"\n",
    "    else:\n",
    "        return \"Abnormal\""
   ]
  },
  {
   "cell_type": "code",
   "execution_count": null,
   "id": "238161aa-609c-4833-a294-9eed63f19bab",
   "metadata": {},
   "outputs": [],
   "source": [
    "df = df.assign(NewInsulinScore=df.apply(set_insuline, axis=1))\n",
    "# df[\"NewInsulinScore\"] = df.apply(set_insuline, axis=1)"
   ]
  },
  {
   "cell_type": "code",
   "execution_count": null,
   "id": "162e3606-3cde-4d36-b67c-e00c51d60d63",
   "metadata": {},
   "outputs": [],
   "source": [
    "df.head()"
   ]
  },
  {
   "cell_type": "code",
   "execution_count": null,
   "id": "6d6bbc28-eda9-4ac8-bd4e-aa885a965be1",
   "metadata": {},
   "outputs": [],
   "source": [
    "# Some interval were determined according to the glucose variable  and these were assigned catergorical\n",
    "NewGlucose = pd.Series([\"Low\",\"Normal\",\"Overweight\",\"Secert\",\"High\"], dtype = \"category\")\n",
    "df['NewGlucose'] = NewGlucose\n",
    "df.loc[df[\"Glucose\"]<=70,\"NewGlucose\"] = NewGlucose[0]\n",
    "df.loc[(df[\"Glucose\"]>70) & (df[\"Glucose\"] <= 99), \"NewGlucose\"] = NewGlucose[1]\n",
    "df.loc[(df[\"Glucose\"]>99) & (df[\"Glucose\"] <= 126), \"NewGlucose\"] = NewGlucose[2]\n",
    "df.loc[df[\"Glucose\"]>126,\"NewGlucose\"] = NewGlucose[3]\n"
   ]
  },
  {
   "cell_type": "code",
   "execution_count": null,
   "id": "2dd3954c-ea70-417e-b606-6d36057838cf",
   "metadata": {},
   "outputs": [],
   "source": [
    "df.head()"
   ]
  },
  {
   "cell_type": "code",
   "execution_count": null,
   "id": "91203121-184f-4f37-8785-7b420a2c8657",
   "metadata": {},
   "outputs": [],
   "source": [
    "# One hot encoding "
   ]
  },
  {
   "cell_type": "code",
   "execution_count": null,
   "id": "af3a1eda-20d6-475a-8913-ca8ccbba2483",
   "metadata": {},
   "outputs": [],
   "source": [
    "df = pd.get_dummies(df, columns=[\"NewBMI\", \"NewInsulinScore\", \"NewGlucose\"], drop_first=True)\n"
   ]
  },
  {
   "cell_type": "code",
   "execution_count": null,
   "id": "4de5f3d6-8c6c-4d21-a380-652ec8c0732a",
   "metadata": {},
   "outputs": [],
   "source": [
    "df.head()"
   ]
  },
  {
   "cell_type": "code",
   "execution_count": null,
   "id": "ba5e91b9-c77c-4ed0-8766-c6eb9db3bdde",
   "metadata": {},
   "outputs": [],
   "source": [
    "df[ df.select_dtypes(bool).columns ] = df.select_dtypes(bool).astype(int)\n"
   ]
  },
  {
   "cell_type": "code",
   "execution_count": null,
   "id": "e724b5fa-b595-42d7-9b2a-45bb0f6812f5",
   "metadata": {},
   "outputs": [],
   "source": [
    "df.head()"
   ]
  },
  {
   "cell_type": "code",
   "execution_count": null,
   "id": "738c7d92-b4c1-4f28-8070-601088ae2c49",
   "metadata": {},
   "outputs": [],
   "source": [
    "df.columns"
   ]
  },
  {
   "cell_type": "code",
   "execution_count": null,
   "id": "f9efb185-6933-471a-9e4e-47546a19e035",
   "metadata": {},
   "outputs": [],
   "source": [
    "categorical_df = df[['NewBMI_Obesity 1',\n",
    "       'NewBMI_Obesity 2', 'NewBMI_Obesity 3', 'NewBMI_Overweight',\n",
    "       'NewBMI_Underweight', 'NewInsulinScore_Noraml', 'NewGlucose_Low',\n",
    "       'NewGlucose_Normal', 'NewGlucose_Overweight', 'NewGlucose_Secert']]"
   ]
  },
  {
   "cell_type": "code",
   "execution_count": null,
   "id": "a393bf26-2b43-41b5-9443-70d7a5834b22",
   "metadata": {},
   "outputs": [],
   "source": [
    "categorical_df.head()"
   ]
  },
  {
   "cell_type": "code",
   "execution_count": null,
   "id": "91fb377a-4921-4c48-adf7-85dcf6e4b7cb",
   "metadata": {},
   "outputs": [],
   "source": [
    "y = df['Outcome']\n",
    "X = df.drop(['Outcome','NewBMI_Obesity 1',\n",
    "       'NewBMI_Obesity 2', 'NewBMI_Obesity 3', 'NewBMI_Overweight',\n",
    "       'NewBMI_Underweight', 'NewInsulinScore_Noraml', 'NewGlucose_Low',\n",
    "       'NewGlucose_Normal', 'NewGlucose_Overweight', 'NewGlucose_Secert'], axis=1)"
   ]
  },
  {
   "cell_type": "code",
   "execution_count": null,
   "id": "6494d4a1-bb0c-401e-abf9-408634fd620a",
   "metadata": {},
   "outputs": [],
   "source": [
    "cols = X.columns\n",
    "index = X.index"
   ]
  },
  {
   "cell_type": "code",
   "execution_count": null,
   "id": "b9cb0daa-b20d-4f79-889b-7419f452880e",
   "metadata": {},
   "outputs": [],
   "source": [
    "X.head()"
   ]
  },
  {
   "cell_type": "code",
   "execution_count": null,
   "id": "842acd9e-df58-46eb-b812-a4d3b7353254",
   "metadata": {},
   "outputs": [],
   "source": [
    "transformer = RobustScaler().fit(X)\n",
    "X = transformer.transform(X)\n",
    "X = pd.DataFrame(X, columns = cols, index = index)"
   ]
  },
  {
   "cell_type": "code",
   "execution_count": null,
   "id": "9aca5d13-1af2-46db-9e3e-79dd70406ec9",
   "metadata": {},
   "outputs": [],
   "source": [
    "X.head()"
   ]
  },
  {
   "cell_type": "code",
   "execution_count": null,
   "id": "288e5229-ab60-40de-9fd4-d70bdfafa4ad",
   "metadata": {},
   "outputs": [],
   "source": [
    "X = pd.concat([X, categorical_df], axis=1)"
   ]
  },
  {
   "cell_type": "code",
   "execution_count": null,
   "id": "796c8eab-15a3-4af7-8256-8d6cd162227c",
   "metadata": {},
   "outputs": [],
   "source": [
    "X.head()"
   ]
  },
  {
   "cell_type": "code",
   "execution_count": null,
   "id": "8d56d303-e100-4dbe-9335-f8db4ef09825",
   "metadata": {},
   "outputs": [],
   "source": [
    "X_train, X_test, y_train, y_test = train_test_split(X,y, test_size=0.2, random_state=0) "
   ]
  },
  {
   "cell_type": "code",
   "execution_count": null,
   "id": "f8bf3d54-25d1-44a4-a844-f7610cc89a86",
   "metadata": {},
   "outputs": [],
   "source": [
    "scaler = StandardScaler()\n",
    "X_train = scaler.fit_transform(X_train)\n",
    "X_test = scaler.transform(X_test)"
   ]
  },
  {
   "cell_type": "code",
   "execution_count": null,
   "id": "3db4e417-18d6-488e-985e-6b3ed6a9b604",
   "metadata": {},
   "outputs": [],
   "source": [
    "# Machine Learning Algorithm "
   ]
  },
  {
   "cell_type": "code",
   "execution_count": null,
   "id": "c5a7a587-d4e2-46e8-9eb4-a18411a636e6",
   "metadata": {},
   "outputs": [],
   "source": [
    "log_reg = LogisticRegression()\n",
    "log_reg.fit(X_train, y_train)"
   ]
  },
  {
   "cell_type": "code",
   "execution_count": null,
   "id": "28ff57a4-592b-4b2e-84f4-a1a64932baf8",
   "metadata": {},
   "outputs": [],
   "source": []
  }
 ],
 "metadata": {
  "kernelspec": {
   "display_name": "Python 3 (ipykernel)",
   "language": "python",
   "name": "python3"
  },
  "language_info": {
   "codemirror_mode": {
    "name": "ipython",
    "version": 3
   },
   "file_extension": ".py",
   "mimetype": "text/x-python",
   "name": "python",
   "nbconvert_exporter": "python",
   "pygments_lexer": "ipython3",
   "version": "3.12.3"
  }
 },
 "nbformat": 4,
 "nbformat_minor": 5
}
